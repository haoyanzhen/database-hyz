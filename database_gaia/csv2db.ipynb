{
 "cells": [
  {
   "cell_type": "code",
   "execution_count": 1,
   "metadata": {},
   "outputs": [],
   "source": [
    "import pandas as pd\n",
    "import os"
   ]
  },
  {
   "cell_type": "code",
   "execution_count": 2,
   "metadata": {},
   "outputs": [],
   "source": [
    "df = pd.read_csv('/media/hyz/dwarfcave/data/temp/GaiaSource_000000-003111.csv',comment='#')"
   ]
  },
  {
   "cell_type": "code",
   "execution_count": 21,
   "metadata": {},
   "outputs": [],
   "source": [
    "dt = pd.Series(df.dtypes,dtype=str)\n",
    "dt.to_csv('./xx.csv')"
   ]
  },
  {
   "cell_type": "code",
   "execution_count": 19,
   "metadata": {},
   "outputs": [
    {
     "data": {
      "text/plain": [
       "str"
      ]
     },
     "execution_count": 19,
     "metadata": {},
     "output_type": "execute_result"
    }
   ],
   "source": [
    "type(dt[0])"
   ]
  },
  {
   "cell_type": "code",
   "execution_count": null,
   "metadata": {},
   "outputs": [],
   "source": [
    "dt[dt=='int64'] = 'BIGINT'\n",
    "dt[dt=='int32'] = 'INT'\n",
    "dt[dt=='float32'] = 'FLOAT'\n",
    "dt[dt=='float64'] = 'DOUBLE'\n",
    "dt[dt=='str']"
   ]
  },
  {
   "cell_type": "code",
   "execution_count": 6,
   "metadata": {},
   "outputs": [
    {
     "data": {
      "text/plain": [
       "Index(['solution_id', 'designation', 'source_id', 'random_index', 'ref_epoch',\n",
       "       'ra', 'ra_error', 'dec', 'dec_error', 'parallax',\n",
       "       ...\n",
       "       'azero_gspphot', 'azero_gspphot_lower', 'azero_gspphot_upper',\n",
       "       'ag_gspphot', 'ag_gspphot_lower', 'ag_gspphot_upper',\n",
       "       'ebpminrp_gspphot', 'ebpminrp_gspphot_lower', 'ebpminrp_gspphot_upper',\n",
       "       'libname_gspphot'],\n",
       "      dtype='object', length=152)"
      ]
     },
     "execution_count": 6,
     "metadata": {},
     "output_type": "execute_result"
    }
   ],
   "source": [
    "df.columns"
   ]
  },
  {
   "cell_type": "code",
   "execution_count": 26,
   "metadata": {},
   "outputs": [],
   "source": [
    "with open('/media/hyz/dwarfcave/data/temp/GaiaSource_000000-003111.csv', 'r') as f:\n",
    "    count = 0\n",
    "    linel = []\n",
    "    while count < 1000:\n",
    "        line = f.readline()\n",
    "        if not line:\n",
    "            break\n",
    "        if 'datatype' in line:\n",
    "            linel.append(line.split(':')[1].strip())\n",
    "        count += 1\n",
    "linel = linel[1:]"
   ]
  },
  {
   "cell_type": "code",
   "execution_count": 27,
   "metadata": {},
   "outputs": [
    {
     "data": {
      "text/plain": [
       "(152, 152)"
      ]
     },
     "execution_count": 27,
     "metadata": {},
     "output_type": "execute_result"
    }
   ],
   "source": [
    "len(linel),len(dt)"
   ]
  },
  {
   "cell_type": "code",
   "execution_count": 38,
   "metadata": {},
   "outputs": [],
   "source": [
    "with open('./gaiams_datatype_list.txt','w') as gdl:\n",
    "    gdl.write('\\n'.join(linel))"
   ]
  },
  {
   "cell_type": "code",
   "execution_count": 36,
   "metadata": {},
   "outputs": [],
   "source": [
    "linel = open('./gaiams_datatype_list.txt','r').read().split('\\n')\n",
    "\n",
    "import numpy as np\n",
    "\n",
    "linel = np.array(linel)"
   ]
  },
  {
   "cell_type": "code",
   "execution_count": 34,
   "metadata": {},
   "outputs": [],
   "source": [
    "linel[linel=='int64'] = 'BIGINT'\n",
    "linel[linel=='int32'] = 'INT'\n",
    "linel[linel=='int16'] = 'SMALLINT'\n",
    "linel[linel=='int8'] = 'TINYINT'\n",
    "# linel[linel=='float32'] = 'FLOAT'\n",
    "linel[linel=='float32'] = 'DOUBLE'\n",
    "linel[linel=='float64'] = 'DOUBLE'\n",
    "linel[linel=='string'] = 'VARCHAR\\(50\\)'\n",
    "linel[linel=='bool'] = 'VARCHAR\\(7\\)'\n"
   ]
  },
  {
   "cell_type": "code",
   "execution_count": 37,
   "metadata": {},
   "outputs": [],
   "source": [
    "new_line = []\n",
    "for line in linel:\n",
    "    if line == 'int64':\n",
    "        new_line.append('BIGINT')\n",
    "    elif line == 'int32':\n",
    "        new_line.append('INT')\n",
    "    elif line == 'int16':\n",
    "        new_line.append('SMALLINT')\n",
    "    elif line == 'int8':\n",
    "        new_line.append('TINYINT')\n",
    "    elif line == 'float32':\n",
    "        new_line.append('DOUBLE')\n",
    "    elif line == 'float64':\n",
    "        new_line.append('DOUBLE')\n",
    "    elif line == 'string':\n",
    "        new_line.append('VARCHAR(50)')\n",
    "    elif line == 'bool':\n",
    "        new_line.append('VARCHAR(7)')"
   ]
  },
  {
   "cell_type": "code",
   "execution_count": 38,
   "metadata": {},
   "outputs": [
    {
     "data": {
      "text/plain": [
       "['BIGINT',\n",
       " 'VARCHAR(50)',\n",
       " 'BIGINT',\n",
       " 'BIGINT',\n",
       " 'DOUBLE',\n",
       " 'DOUBLE',\n",
       " 'DOUBLE',\n",
       " 'DOUBLE',\n",
       " 'DOUBLE',\n",
       " 'DOUBLE',\n",
       " 'DOUBLE',\n",
       " 'DOUBLE',\n",
       " 'DOUBLE',\n",
       " 'DOUBLE',\n",
       " 'DOUBLE',\n",
       " 'DOUBLE',\n",
       " 'DOUBLE',\n",
       " 'DOUBLE',\n",
       " 'DOUBLE',\n",
       " 'DOUBLE',\n",
       " 'DOUBLE',\n",
       " 'DOUBLE',\n",
       " 'DOUBLE',\n",
       " 'DOUBLE',\n",
       " 'DOUBLE',\n",
       " 'DOUBLE',\n",
       " 'DOUBLE',\n",
       " 'SMALLINT',\n",
       " 'SMALLINT',\n",
       " 'SMALLINT',\n",
       " 'SMALLINT',\n",
       " 'DOUBLE',\n",
       " 'DOUBLE',\n",
       " 'DOUBLE',\n",
       " 'DOUBLE',\n",
       " 'TINYINT',\n",
       " 'VARCHAR(7)',\n",
       " 'DOUBLE',\n",
       " 'DOUBLE',\n",
       " 'DOUBLE',\n",
       " 'DOUBLE',\n",
       " 'DOUBLE',\n",
       " 'DOUBLE',\n",
       " 'DOUBLE',\n",
       " 'DOUBLE',\n",
       " 'SMALLINT',\n",
       " 'SMALLINT',\n",
       " 'DOUBLE',\n",
       " 'SMALLINT',\n",
       " 'SMALLINT',\n",
       " 'SMALLINT',\n",
       " 'DOUBLE',\n",
       " 'DOUBLE',\n",
       " 'TINYINT',\n",
       " 'TINYINT',\n",
       " 'DOUBLE',\n",
       " 'DOUBLE',\n",
       " 'DOUBLE',\n",
       " 'DOUBLE',\n",
       " 'DOUBLE',\n",
       " 'DOUBLE',\n",
       " 'DOUBLE',\n",
       " 'DOUBLE',\n",
       " 'DOUBLE',\n",
       " 'VARCHAR(7)',\n",
       " 'SMALLINT',\n",
       " 'DOUBLE',\n",
       " 'DOUBLE',\n",
       " 'DOUBLE',\n",
       " 'DOUBLE',\n",
       " 'SMALLINT',\n",
       " 'DOUBLE',\n",
       " 'DOUBLE',\n",
       " 'DOUBLE',\n",
       " 'DOUBLE',\n",
       " 'SMALLINT',\n",
       " 'DOUBLE',\n",
       " 'DOUBLE',\n",
       " 'DOUBLE',\n",
       " 'DOUBLE',\n",
       " 'DOUBLE',\n",
       " 'SMALLINT',\n",
       " 'SMALLINT',\n",
       " 'SMALLINT',\n",
       " 'SMALLINT',\n",
       " 'TINYINT',\n",
       " 'DOUBLE',\n",
       " 'DOUBLE',\n",
       " 'DOUBLE',\n",
       " 'DOUBLE',\n",
       " 'DOUBLE',\n",
       " 'TINYINT',\n",
       " 'SMALLINT',\n",
       " 'SMALLINT',\n",
       " 'SMALLINT',\n",
       " 'DOUBLE',\n",
       " 'DOUBLE',\n",
       " 'DOUBLE',\n",
       " 'DOUBLE',\n",
       " 'DOUBLE',\n",
       " 'DOUBLE',\n",
       " 'DOUBLE',\n",
       " 'DOUBLE',\n",
       " 'SMALLINT',\n",
       " 'DOUBLE',\n",
       " 'DOUBLE',\n",
       " 'SMALLINT',\n",
       " 'DOUBLE',\n",
       " 'DOUBLE',\n",
       " 'SMALLINT',\n",
       " 'DOUBLE',\n",
       " 'VARCHAR(50)',\n",
       " 'DOUBLE',\n",
       " 'DOUBLE',\n",
       " 'DOUBLE',\n",
       " 'DOUBLE',\n",
       " 'VARCHAR(7)',\n",
       " 'VARCHAR(7)',\n",
       " 'SMALLINT',\n",
       " 'VARCHAR(7)',\n",
       " 'VARCHAR(7)',\n",
       " 'VARCHAR(7)',\n",
       " 'VARCHAR(7)',\n",
       " 'VARCHAR(7)',\n",
       " 'VARCHAR(7)',\n",
       " 'VARCHAR(7)',\n",
       " 'VARCHAR(7)',\n",
       " 'DOUBLE',\n",
       " 'DOUBLE',\n",
       " 'DOUBLE',\n",
       " 'DOUBLE',\n",
       " 'DOUBLE',\n",
       " 'DOUBLE',\n",
       " 'DOUBLE',\n",
       " 'DOUBLE',\n",
       " 'DOUBLE',\n",
       " 'DOUBLE',\n",
       " 'DOUBLE',\n",
       " 'DOUBLE',\n",
       " 'DOUBLE',\n",
       " 'DOUBLE',\n",
       " 'DOUBLE',\n",
       " 'DOUBLE',\n",
       " 'DOUBLE',\n",
       " 'DOUBLE',\n",
       " 'DOUBLE',\n",
       " 'DOUBLE',\n",
       " 'DOUBLE',\n",
       " 'DOUBLE',\n",
       " 'DOUBLE',\n",
       " 'DOUBLE',\n",
       " 'VARCHAR(50)']"
      ]
     },
     "execution_count": 38,
     "metadata": {},
     "output_type": "execute_result"
    }
   ],
   "source": [
    "new_line"
   ]
  },
  {
   "cell_type": "code",
   "execution_count": 39,
   "metadata": {},
   "outputs": [],
   "source": [
    "with open('./gaiams_database_datatype_new.txt','w') as gdl:\n",
    "    gdl.write('\\n'.join(list(new_line)))"
   ]
  },
  {
   "cell_type": "code",
   "execution_count": 2,
   "metadata": {},
   "outputs": [],
   "source": [
    "import pandas as pd\n",
    "\n",
    "columns = pd.read_csv('/media/hyz/dwarfcave/data/temp/GaiaSource_000000-003111.csv',comment='#').columns\n",
    "data_types = open('./gaiams_database_datatype.txt','r').read().split('\\n')\n",
    "column_defs = [f\"{col} {data_types[i]}\" if col != 'dec' else f\"`{col}` {data_types[i]}\" for i, col in enumerate(columns)]"
   ]
  },
  {
   "cell_type": "code",
   "execution_count": 4,
   "metadata": {},
   "outputs": [
    {
     "data": {
      "text/plain": [
       "['solution_id',\n",
       " 'designation',\n",
       " 'source_id',\n",
       " 'random_index',\n",
       " 'ref_epoch',\n",
       " 'ra',\n",
       " 'ra_error',\n",
       " '`dec`',\n",
       " 'dec_error',\n",
       " 'parallax',\n",
       " 'parallax_error',\n",
       " 'parallax_over_error',\n",
       " 'pm',\n",
       " 'pmra',\n",
       " 'pmra_error',\n",
       " 'pmdec',\n",
       " 'pmdec_error',\n",
       " 'ra_dec_corr',\n",
       " 'ra_parallax_corr',\n",
       " 'ra_pmra_corr',\n",
       " 'ra_pmdec_corr',\n",
       " 'dec_parallax_corr',\n",
       " 'dec_pmra_corr',\n",
       " 'dec_pmdec_corr',\n",
       " 'parallax_pmra_corr',\n",
       " 'parallax_pmdec_corr',\n",
       " 'pmra_pmdec_corr',\n",
       " 'astrometric_n_obs_al',\n",
       " 'astrometric_n_obs_ac',\n",
       " 'astrometric_n_good_obs_al',\n",
       " 'astrometric_n_bad_obs_al',\n",
       " 'astrometric_gof_al',\n",
       " 'astrometric_chi2_al',\n",
       " 'astrometric_excess_noise',\n",
       " 'astrometric_excess_noise_sig',\n",
       " 'astrometric_params_solved',\n",
       " 'astrometric_primary_flag',\n",
       " 'nu_eff_used_in_astrometry',\n",
       " 'pseudocolour',\n",
       " 'pseudocolour_error',\n",
       " 'ra_pseudocolour_corr',\n",
       " 'dec_pseudocolour_corr',\n",
       " 'parallax_pseudocolour_corr',\n",
       " 'pmra_pseudocolour_corr',\n",
       " 'pmdec_pseudocolour_corr',\n",
       " 'astrometric_matched_transits',\n",
       " 'visibility_periods_used',\n",
       " 'astrometric_sigma5d_max',\n",
       " 'matched_transits',\n",
       " 'new_matched_transits',\n",
       " 'matched_transits_removed',\n",
       " 'ipd_gof_harmonic_amplitude',\n",
       " 'ipd_gof_harmonic_phase',\n",
       " 'ipd_frac_multi_peak',\n",
       " 'ipd_frac_odd_win',\n",
       " 'ruwe',\n",
       " 'scan_direction_strength_k1',\n",
       " 'scan_direction_strength_k2',\n",
       " 'scan_direction_strength_k3',\n",
       " 'scan_direction_strength_k4',\n",
       " 'scan_direction_mean_k1',\n",
       " 'scan_direction_mean_k2',\n",
       " 'scan_direction_mean_k3',\n",
       " 'scan_direction_mean_k4',\n",
       " 'duplicated_source',\n",
       " 'phot_g_n_obs',\n",
       " 'phot_g_mean_flux',\n",
       " 'phot_g_mean_flux_error',\n",
       " 'phot_g_mean_flux_over_error',\n",
       " 'phot_g_mean_mag',\n",
       " 'phot_bp_n_obs',\n",
       " 'phot_bp_mean_flux',\n",
       " 'phot_bp_mean_flux_error',\n",
       " 'phot_bp_mean_flux_over_error',\n",
       " 'phot_bp_mean_mag',\n",
       " 'phot_rp_n_obs',\n",
       " 'phot_rp_mean_flux',\n",
       " 'phot_rp_mean_flux_error',\n",
       " 'phot_rp_mean_flux_over_error',\n",
       " 'phot_rp_mean_mag',\n",
       " 'phot_bp_rp_excess_factor',\n",
       " 'phot_bp_n_contaminated_transits',\n",
       " 'phot_bp_n_blended_transits',\n",
       " 'phot_rp_n_contaminated_transits',\n",
       " 'phot_rp_n_blended_transits',\n",
       " 'phot_proc_mode',\n",
       " 'bp_rp',\n",
       " 'bp_g',\n",
       " 'g_rp',\n",
       " 'radial_velocity',\n",
       " 'radial_velocity_error',\n",
       " 'rv_method_used',\n",
       " 'rv_nb_transits',\n",
       " 'rv_nb_deblended_transits',\n",
       " 'rv_visibility_periods_used',\n",
       " 'rv_expected_sig_to_noise',\n",
       " 'rv_renormalised_gof',\n",
       " 'rv_chisq_pvalue',\n",
       " 'rv_time_duration',\n",
       " 'rv_amplitude_robust',\n",
       " 'rv_template_teff',\n",
       " 'rv_template_logg',\n",
       " 'rv_template_fe_h',\n",
       " 'rv_atm_param_origin',\n",
       " 'vbroad',\n",
       " 'vbroad_error',\n",
       " 'vbroad_nb_transits',\n",
       " 'grvs_mag',\n",
       " 'grvs_mag_error',\n",
       " 'grvs_mag_nb_transits',\n",
       " 'rvs_spec_sig_to_noise',\n",
       " 'phot_variable_flag',\n",
       " 'l',\n",
       " 'b',\n",
       " 'ecl_lon',\n",
       " 'ecl_lat',\n",
       " 'in_qso_candidates',\n",
       " 'in_galaxy_candidates',\n",
       " 'non_single_star',\n",
       " 'has_xp_continuous',\n",
       " 'has_xp_sampled',\n",
       " 'has_rvs',\n",
       " 'has_epoch_photometry',\n",
       " 'has_epoch_rv',\n",
       " 'has_mcmc_gspphot',\n",
       " 'has_mcmc_msc',\n",
       " 'in_andromeda_survey',\n",
       " 'classprob_dsc_combmod_quasar',\n",
       " 'classprob_dsc_combmod_galaxy',\n",
       " 'classprob_dsc_combmod_star',\n",
       " 'teff_gspphot',\n",
       " 'teff_gspphot_lower',\n",
       " 'teff_gspphot_upper',\n",
       " 'logg_gspphot',\n",
       " 'logg_gspphot_lower',\n",
       " 'logg_gspphot_upper',\n",
       " 'mh_gspphot',\n",
       " 'mh_gspphot_lower',\n",
       " 'mh_gspphot_upper',\n",
       " 'distance_gspphot',\n",
       " 'distance_gspphot_lower',\n",
       " 'distance_gspphot_upper',\n",
       " 'azero_gspphot',\n",
       " 'azero_gspphot_lower',\n",
       " 'azero_gspphot_upper',\n",
       " 'ag_gspphot',\n",
       " 'ag_gspphot_lower',\n",
       " 'ag_gspphot_upper',\n",
       " 'ebpminrp_gspphot',\n",
       " 'ebpminrp_gspphot_lower',\n",
       " 'ebpminrp_gspphot_upper',\n",
       " 'libname_gspphot']"
      ]
     },
     "execution_count": 4,
     "metadata": {},
     "output_type": "execute_result"
    }
   ],
   "source": [
    "[f'{col}' if col != 'dec' else f'`{col}`' for col in columns]"
   ]
  },
  {
   "cell_type": "code",
   "execution_count": 5,
   "metadata": {},
   "outputs": [
    {
     "data": {
      "text/plain": [
       "2745"
      ]
     },
     "execution_count": 5,
     "metadata": {},
     "output_type": "execute_result"
    }
   ],
   "source": [
    "open('./gaiams_columns_name.txt','w').write('\\n'.join(columns))"
   ]
  },
  {
   "cell_type": "code",
   "execution_count": 2,
   "metadata": {},
   "outputs": [],
   "source": [
    "import os \n",
    "dd = os.listdir('/data/gaiaDR3/ms/')\n"
   ]
  },
  {
   "cell_type": "code",
   "execution_count": 4,
   "metadata": {},
   "outputs": [],
   "source": [
    "dd.sort()"
   ]
  },
  {
   "cell_type": "code",
   "execution_count": 6,
   "metadata": {},
   "outputs": [
    {
     "data": {
      "text/plain": [
       "['_MD5SUM.txt',\n",
       " 'csv.list',\n",
       " 'down_checkout.py',\n",
       " 'down_list.txt',\n",
       " 'gaiasource_colume.list',\n",
       " 'gaiasource_path.list',\n",
       " 'gzlist.txt',\n",
       " 'path_g.py',\n",
       " 'ungz.sh',\n",
       " 'ungz_g.py']"
      ]
     },
     "execution_count": 6,
     "metadata": {},
     "output_type": "execute_result"
    }
   ],
   "source": [
    "dd[-10:]"
   ]
  },
  {
   "cell_type": "code",
   "execution_count": 1,
   "metadata": {},
   "outputs": [],
   "source": [
    "# 设定数据类型为int、string和int\n",
    "with open('./gaiams_database_datatype.txt','r') as dt:\n",
    "    data_types = dt.read().split('\\n')\n",
    "\n",
    "with open ('./gaiams_columns_name.txt','r') as gcn:\n",
    "    cols = gcn.read().split('\\n')\n",
    "\n",
    "column_defs = [f\"{col} {data_types[i]} NULL\" if col != 'dec' else f\"`{col}` {data_types[i]} NULL\" for i, col in enumerate(cols)]\n",
    "\n",
    "mini_columns = ['source_id', 'ra', 'ra_error', 'dec', 'dec_error', 'parallax', 'parallax_error', 'pm', 'pmra', 'pmra_error', 'pmdec', 'pmdec_error', \n",
    "                'phot_g_mean_mag', 'phot_bp_mean_mag', 'phot_rp_mean_mag', 'radial_velocity', 'radial_velocity_error', 'teff_gspphot', 'logg_gspphot', 'mh_gspphot', 'distance_gspphot']\n"
   ]
  },
  {
   "cell_type": "code",
   "execution_count": 3,
   "metadata": {},
   "outputs": [
    {
     "data": {
      "text/plain": [
       "['solution_id',\n",
       " 'designation',\n",
       " 'source_id',\n",
       " 'random_index',\n",
       " 'ref_epoch',\n",
       " 'ra',\n",
       " 'ra_error',\n",
       " 'dec',\n",
       " 'dec_error',\n",
       " 'parallax',\n",
       " 'parallax_error',\n",
       " 'parallax_over_error',\n",
       " 'pm',\n",
       " 'pmra',\n",
       " 'pmra_error',\n",
       " 'pmdec',\n",
       " 'pmdec_error',\n",
       " 'ra_dec_corr',\n",
       " 'ra_parallax_corr',\n",
       " 'ra_pmra_corr',\n",
       " 'ra_pmdec_corr',\n",
       " 'dec_parallax_corr',\n",
       " 'dec_pmra_corr',\n",
       " 'dec_pmdec_corr',\n",
       " 'parallax_pmra_corr',\n",
       " 'parallax_pmdec_corr',\n",
       " 'pmra_pmdec_corr',\n",
       " 'astrometric_n_obs_al',\n",
       " 'astrometric_n_obs_ac',\n",
       " 'astrometric_n_good_obs_al',\n",
       " 'astrometric_n_bad_obs_al',\n",
       " 'astrometric_gof_al',\n",
       " 'astrometric_chi2_al',\n",
       " 'astrometric_excess_noise',\n",
       " 'astrometric_excess_noise_sig',\n",
       " 'astrometric_params_solved',\n",
       " 'astrometric_primary_flag',\n",
       " 'nu_eff_used_in_astrometry',\n",
       " 'pseudocolour',\n",
       " 'pseudocolour_error',\n",
       " 'ra_pseudocolour_corr',\n",
       " 'dec_pseudocolour_corr',\n",
       " 'parallax_pseudocolour_corr',\n",
       " 'pmra_pseudocolour_corr',\n",
       " 'pmdec_pseudocolour_corr',\n",
       " 'astrometric_matched_transits',\n",
       " 'visibility_periods_used',\n",
       " 'astrometric_sigma5d_max',\n",
       " 'matched_transits',\n",
       " 'new_matched_transits',\n",
       " 'matched_transits_removed',\n",
       " 'ipd_gof_harmonic_amplitude',\n",
       " 'ipd_gof_harmonic_phase',\n",
       " 'ipd_frac_multi_peak',\n",
       " 'ipd_frac_odd_win',\n",
       " 'ruwe',\n",
       " 'scan_direction_strength_k1',\n",
       " 'scan_direction_strength_k2',\n",
       " 'scan_direction_strength_k3',\n",
       " 'scan_direction_strength_k4',\n",
       " 'scan_direction_mean_k1',\n",
       " 'scan_direction_mean_k2',\n",
       " 'scan_direction_mean_k3',\n",
       " 'scan_direction_mean_k4',\n",
       " 'duplicated_source',\n",
       " 'phot_g_n_obs',\n",
       " 'phot_g_mean_flux',\n",
       " 'phot_g_mean_flux_error',\n",
       " 'phot_g_mean_flux_over_error',\n",
       " 'phot_g_mean_mag',\n",
       " 'phot_bp_n_obs',\n",
       " 'phot_bp_mean_flux',\n",
       " 'phot_bp_mean_flux_error',\n",
       " 'phot_bp_mean_flux_over_error',\n",
       " 'phot_bp_mean_mag',\n",
       " 'phot_rp_n_obs',\n",
       " 'phot_rp_mean_flux',\n",
       " 'phot_rp_mean_flux_error',\n",
       " 'phot_rp_mean_flux_over_error',\n",
       " 'phot_rp_mean_mag',\n",
       " 'phot_bp_rp_excess_factor',\n",
       " 'phot_bp_n_contaminated_transits',\n",
       " 'phot_bp_n_blended_transits',\n",
       " 'phot_rp_n_contaminated_transits',\n",
       " 'phot_rp_n_blended_transits',\n",
       " 'phot_proc_mode',\n",
       " 'bp_rp',\n",
       " 'bp_g',\n",
       " 'g_rp',\n",
       " 'radial_velocity',\n",
       " 'radial_velocity_error',\n",
       " 'rv_method_used',\n",
       " 'rv_nb_transits',\n",
       " 'rv_nb_deblended_transits',\n",
       " 'rv_visibility_periods_used',\n",
       " 'rv_expected_sig_to_noise',\n",
       " 'rv_renormalised_gof',\n",
       " 'rv_chisq_pvalue',\n",
       " 'rv_time_duration',\n",
       " 'rv_amplitude_robust',\n",
       " 'rv_template_teff',\n",
       " 'rv_template_logg',\n",
       " 'rv_template_fe_h',\n",
       " 'rv_atm_param_origin',\n",
       " 'vbroad',\n",
       " 'vbroad_error',\n",
       " 'vbroad_nb_transits',\n",
       " 'grvs_mag',\n",
       " 'grvs_mag_error',\n",
       " 'grvs_mag_nb_transits',\n",
       " 'rvs_spec_sig_to_noise',\n",
       " 'phot_variable_flag',\n",
       " 'l',\n",
       " 'b',\n",
       " 'ecl_lon',\n",
       " 'ecl_lat',\n",
       " 'in_qso_candidates',\n",
       " 'in_galaxy_candidates',\n",
       " 'non_single_star',\n",
       " 'has_xp_continuous',\n",
       " 'has_xp_sampled',\n",
       " 'has_rvs',\n",
       " 'has_epoch_photometry',\n",
       " 'has_epoch_rv',\n",
       " 'has_mcmc_gspphot',\n",
       " 'has_mcmc_msc',\n",
       " 'in_andromeda_survey',\n",
       " 'classprob_dsc_combmod_quasar',\n",
       " 'classprob_dsc_combmod_galaxy',\n",
       " 'classprob_dsc_combmod_star',\n",
       " 'teff_gspphot',\n",
       " 'teff_gspphot_lower',\n",
       " 'teff_gspphot_upper',\n",
       " 'logg_gspphot',\n",
       " 'logg_gspphot_lower',\n",
       " 'logg_gspphot_upper',\n",
       " 'mh_gspphot',\n",
       " 'mh_gspphot_lower',\n",
       " 'mh_gspphot_upper',\n",
       " 'distance_gspphot',\n",
       " 'distance_gspphot_lower',\n",
       " 'distance_gspphot_upper',\n",
       " 'azero_gspphot',\n",
       " 'azero_gspphot_lower',\n",
       " 'azero_gspphot_upper',\n",
       " 'ag_gspphot',\n",
       " 'ag_gspphot_lower',\n",
       " 'ag_gspphot_upper',\n",
       " 'ebpminrp_gspphot',\n",
       " 'ebpminrp_gspphot_lower',\n",
       " 'ebpminrp_gspphot_upper',\n",
       " 'libname_gspphot']"
      ]
     },
     "execution_count": 3,
     "metadata": {},
     "output_type": "execute_result"
    }
   ],
   "source": [
    "cols"
   ]
  },
  {
   "cell_type": "code",
   "execution_count": 9,
   "metadata": {},
   "outputs": [],
   "source": [
    "import numpy as np\n",
    "\n",
    "# cols = np.array(cols)\n",
    "\n",
    "mini_index = [cols.index(_mc) for _mc in mini_columns]"
   ]
  },
  {
   "cell_type": "code",
   "execution_count": 11,
   "metadata": {},
   "outputs": [
    {
     "data": {
      "text/plain": [
       "array(['source_id BIGINT NULL', 'ra DOUBLE NULL', 'ra_error FLOAT NULL',\n",
       "       '`dec` DOUBLE NULL', 'dec_error FLOAT NULL',\n",
       "       'parallax DOUBLE NULL', 'parallax_error FLOAT NULL',\n",
       "       'pm FLOAT NULL', 'pmra DOUBLE NULL', 'pmra_error FLOAT NULL',\n",
       "       'pmdec DOUBLE NULL', 'pmdec_error FLOAT NULL',\n",
       "       'phot_g_mean_mag FLOAT NULL', 'phot_bp_mean_mag FLOAT NULL',\n",
       "       'phot_rp_mean_mag FLOAT NULL', 'radial_velocity FLOAT NULL',\n",
       "       'radial_velocity_error FLOAT NULL', 'teff_gspphot FLOAT NULL',\n",
       "       'logg_gspphot FLOAT NULL', 'mh_gspphot FLOAT NULL',\n",
       "       'distance_gspphot FLOAT NULL'], dtype='<U45')"
      ]
     },
     "execution_count": 11,
     "metadata": {},
     "output_type": "execute_result"
    }
   ],
   "source": [
    "np.array(column_defs)[mini_index]"
   ]
  },
  {
   "cell_type": "code",
   "execution_count": 15,
   "metadata": {},
   "outputs": [
    {
     "data": {
      "text/plain": [
       "2.0"
      ]
     },
     "execution_count": 15,
     "metadata": {},
     "output_type": "execute_result"
    }
   ],
   "source": [
    "xx = np.array([1,2,3])\n",
    "xx.mean()"
   ]
  },
  {
   "cell_type": "code",
   "execution_count": 3,
   "metadata": {},
   "outputs": [
    {
     "data": {
      "text/plain": [
       "array(['solution_id', 'designation', 'source_id', 'random_index',\n",
       "       'ref_epoch', 'ra', 'ra_error', 'dec', 'dec_error', 'parallax'],\n",
       "      dtype='<U31')"
      ]
     },
     "execution_count": 3,
     "metadata": {},
     "output_type": "execute_result"
    }
   ],
   "source": [
    "import numpy as np\n",
    "\n",
    "with open ('./gaiams_columns_name.txt','r') as gcn:\n",
    "    cols = gcn.read().split('\\n')\n",
    "np.save('./column_names_gaiadr3.npy',np.array(cols))\n",
    "xx = np.load('./column_names_gaiadr3.npy',allow_pickle=True)\n",
    "xx[0:10]"
   ]
  },
  {
   "cell_type": "code",
   "execution_count": null,
   "metadata": {},
   "outputs": [],
   "source": []
  }
 ],
 "metadata": {
  "kernelspec": {
   "display_name": "sql",
   "language": "python",
   "name": "python3"
  },
  "language_info": {
   "codemirror_mode": {
    "name": "ipython",
    "version": 3
   },
   "file_extension": ".py",
   "mimetype": "text/x-python",
   "name": "python",
   "nbconvert_exporter": "python",
   "pygments_lexer": "ipython3",
   "version": "3.7.12"
  },
  "orig_nbformat": 4
 },
 "nbformat": 4,
 "nbformat_minor": 2
}
